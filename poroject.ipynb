{
 "cells": [
  {
   "cell_type": "code",
   "execution_count": 3,
   "id": "b0439a78",
   "metadata": {},
   "outputs": [
    {
     "name": "stdout",
     "output_type": "stream",
     "text": [
      " 0vI1Nk\n"
     ]
    }
   ],
   "source": [
    "#mini project: Assignmet\n",
    "import random\n",
    "import string\n",
    "\n",
    "\n",
    "OTP=' '\n",
    "char=list(string.ascii_letters + string.digits)\n",
    "for i in  range(6):\n",
    "    OTP+= random.choice(char)\n",
    "    \n",
    "print(OTP)    "
   ]
  },
  {
   "cell_type": "code",
   "execution_count": null,
   "id": "bf458d82",
   "metadata": {},
   "outputs": [],
   "source": []
  }
 ],
 "metadata": {
  "kernelspec": {
   "display_name": "Python 3",
   "language": "python",
   "name": "python3"
  },
  "language_info": {
   "codemirror_mode": {
    "name": "ipython",
    "version": 3
   },
   "file_extension": ".py",
   "mimetype": "text/x-python",
   "name": "python",
   "nbconvert_exporter": "python",
   "pygments_lexer": "ipython3",
   "version": "3.8.8"
  }
 },
 "nbformat": 4,
 "nbformat_minor": 5
}
